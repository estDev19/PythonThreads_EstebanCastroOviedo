{
  "nbformat": 4,
  "nbformat_minor": 0,
  "metadata": {
    "colab": {
      "provenance": [],
      "authorship_tag": "ABX9TyNGwV9Q3QPdTYTnPFu4oJJF",
      "include_colab_link": true
    },
    "kernelspec": {
      "name": "python3",
      "display_name": "Python 3"
    },
    "language_info": {
      "name": "python"
    }
  },
  "cells": [
    {
      "cell_type": "markdown",
      "metadata": {
        "id": "view-in-github",
        "colab_type": "text"
      },
      "source": [
        "<a href=\"https://colab.research.google.com/github/estDev19/PythonThreads_EstebanCastroOviedo/blob/main/labHilosPython.ipynb\" target=\"_parent\"><img src=\"https://colab.research.google.com/assets/colab-badge.svg\" alt=\"Open In Colab\"/></a>"
      ]
    },
    {
      "cell_type": "code",
      "execution_count": 54,
      "metadata": {
        "id": "OofB-dsae9Mv"
      },
      "outputs": [],
      "source": [
        "import threading\n",
        "import random\n",
        "import time"
      ]
    },
    {
      "cell_type": "code",
      "source": [
        "def ordena_subvector(subvector, hilo):\n",
        "  tiempo_inicio = time.time()\n",
        "  subvector.sort()\n",
        "  print(subvector)\n",
        "  tiempo_fin = time.time()\n",
        "  tiempo_ejecucion = tiempo_fin - tiempo_inicio\n",
        "  print(f\"Hilo {hilo}: Subvector ordenado (Tiempo: {tiempo_ejecucion} segundos)\")"
      ],
      "metadata": {
        "id": "pj9mv9SNgfK7"
      },
      "execution_count": 61,
      "outputs": []
    },
    {
      "cell_type": "code",
      "source": [
        "def dividir_vector(vector, num_hilos):\n",
        "  longitud_subvector = len(vector)//num_hilos\n",
        "  subvectores = [vector[i:i+longitud_subvector] for i in range(0, len(vector), longitud_subvector)]\n",
        "  return subvectores"
      ],
      "metadata": {
        "id": "SjPcVBbuhMyd"
      },
      "execution_count": 56,
      "outputs": []
    },
    {
      "cell_type": "code",
      "source": [
        "def unir_vectores(subvectores):\n",
        "  vector_ordenado = [num for subvector in subvectores for num in subvector]\n",
        "  return vector_ordenado"
      ],
      "metadata": {
        "id": "NBufz-L_h0tl"
      },
      "execution_count": 57,
      "outputs": []
    },
    {
      "cell_type": "code",
      "source": [
        "def ordenar_vector(vector, num_hilos):\n",
        "    # Medir el tiempo total de ejecución\n",
        "    tiempo_inicio_total = time.time()\n",
        "\n",
        "    subvectores = dividir_vector(vector, num_hilos)\n",
        "    threads = []\n",
        "\n",
        "    for i, subvector in enumerate(subvectores):\n",
        "        thread = threading.Thread(target=ordena_subvector, args=(subvector, i))\n",
        "        thread.start()\n",
        "        threads.append(thread)\n",
        "\n",
        "    for thread in threads:\n",
        "        thread.join()\n",
        "\n",
        "    vector_ordenado = unir_vectores(subvectores)\n",
        "    vector_ordenado.sort()\n",
        "    print(f\"Vector ordenado final: {vector_ordenado}\")\n",
        "\n",
        "    # Medir el tiempo total de ejecución\n",
        "    tiempo_fin_total = time.time()\n",
        "    tiempo_total = tiempo_fin_total - tiempo_inicio_total\n",
        "    print(f\"Tiempo total de ejecución: {tiempo_total} segundos\")"
      ],
      "metadata": {
        "id": "btiRzqG7iP6M"
      },
      "execution_count": 59,
      "outputs": []
    },
    {
      "cell_type": "code",
      "source": [
        "Zector_grande = [random.randint(1, 100) for _ in range(100)]\n",
        "num_hilos = int(input(\"Ingrese la cantidad de hilos: \"))\n",
        "ordenar_vector(vector=vector_grande, num_hilos=num_hilos)"
      ],
      "metadata": {
        "colab": {
          "base_uri": "https://localhost:8080/"
        },
        "id": "NgEEhza_iyLD",
        "outputId": "516ab99c-4790-4dc1-f90b-d6730484c47c",
        "collapsed": true
      },
      "execution_count": 73,
      "outputs": [
        {
          "output_type": "stream",
          "name": "stdout",
          "text": [
            "Ingrese la cantidad de hilos: 50\n",
            "[66, 84]\n",
            "Hilo 0: Subvector ordenado (Tiempo: 0.0014879703521728516 segundos)\n",
            "[21, 82]\n",
            "Hilo 1: Subvector ordenado (Tiempo: 0.0007472038269042969 segundos)\n",
            "[65, 80]\n",
            "Hilo 2: Subvector ordenado (Tiempo: 0.0015015602111816406 segundos)\n",
            "[62, 65]\n",
            "Hilo 3: Subvector ordenado (Tiempo: 0.0008976459503173828 segundos)\n",
            "[56, 63]\n",
            "Hilo 4: Subvector ordenado (Tiempo: 0.001001596450805664 segundos)\n",
            "[13, 49]\n",
            "Hilo 5: Subvector ordenado (Tiempo: 0.0008955001831054688 segundos)\n",
            "[30, 60]\n",
            "Hilo 6: Subvector ordenado (Tiempo: 0.0010945796966552734 segundos)\n",
            "[29, 34][4, 52]\n",
            "Hilo 7: Subvector ordenado (Tiempo: 0.002138376235961914 segundos)\n",
            "\n",
            "Hilo 8: Subvector ordenado (Tiempo: 0.001886129379272461 segundos)\n",
            "[68, 86]\n",
            "Hilo 9: Subvector ordenado (Tiempo: 0.0009171962738037109 segundos)\n",
            "[17, 99]\n",
            "Hilo 10: Subvector ordenado (Tiempo: 0.0008716583251953125 segundos)\n",
            "[10, 26]\n",
            "Hilo 11: Subvector ordenado (Tiempo: 0.0008754730224609375 segundos)\n",
            "[22, 64]\n",
            "Hilo 12: Subvector ordenado (Tiempo: 0.0008533000946044922 segundos)\n",
            "[47, 98]\n",
            "Hilo 13: Subvector ordenado (Tiempo: 0.0008749961853027344 segundos)\n",
            "[56, 97]\n",
            "Hilo 14: Subvector ordenado (Tiempo: 0.0008714199066162109 segundos)\n",
            "[31, 73][28, 31]\n",
            "Hilo 16: Subvector ordenado (Tiempo: 0.0001976490020751953 segundos)\n",
            "[2, 70]\n",
            "Hilo 17: Subvector ordenado (Tiempo: 0.0008320808410644531 segundos)\n",
            "\n",
            "[25, 84]Hilo 15: Subvector ordenado (Tiempo: 0.0062694549560546875 segundos)\n",
            "\n",
            "Hilo 18: Subvector ordenado (Tiempo: 0.001756429672241211 segundos)\n",
            "[49, 100][51, 61]\n",
            "Hilo 20: Subvector ordenado (Tiempo: 0.0008602142333984375 segundos)\n",
            "[38, 73]\n",
            "\n",
            "Hilo 19: Subvector ordenado (Tiempo: 0.0025026798248291016 segundos)Hilo 21: Subvector ordenado (Tiempo: 0.0010898113250732422 segundos)\n",
            "\n",
            "[22, 61]\n",
            "Hilo 22: Subvector ordenado (Tiempo: 0.0007843971252441406 segundos)\n",
            "[48, 64][22, 38]\n",
            "Hilo 24: Subvector ordenado (Tiempo: 0.0008518695831298828 segundos)\n",
            "\n",
            "[17, 78]Hilo 23: Subvector ordenado (Tiempo: 0.002659320831298828 segundos)\n",
            "\n",
            "Hilo 25: Subvector ordenado (Tiempo: 0.0015933513641357422 segundos)\n",
            "[36, 82]\n",
            "Hilo 26: Subvector ordenado (Tiempo: 0.000797271728515625 segundos)\n",
            "[73, 82][13, 45]\n",
            "\n",
            "Hilo 27: Subvector ordenado (Tiempo: 0.0012972354888916016 segundos)Hilo 28: Subvector ordenado (Tiempo: 0.0012230873107910156 segundos)\n",
            "\n",
            "[3, 90]\n",
            "Hilo 29: Subvector ordenado (Tiempo: 0.0007898807525634766 segundos)\n",
            "[36, 99]\n",
            "Hilo 30: Subvector ordenado (Tiempo: 0.0007543563842773438 segundos)\n",
            "[5, 27]\n",
            "Hilo 31: Subvector ordenado (Tiempo: 0.000759124755859375 segundos)\n",
            "[19, 49][8, 89]\n",
            "Hilo 33: Subvector ordenado (Tiempo: 0.0001316070556640625 segundos)\n",
            "Hilo 32: Subvector ordenado (Tiempo: 0.00048232078552246094 segundos)\n",
            "\n",
            "[77, 86]\n",
            "Hilo 34: Subvector ordenado (Tiempo: 0.0007920265197753906 segundos)\n",
            "[52, 68]\n",
            "Hilo 35: Subvector ordenado (Tiempo: 0.0007891654968261719 segundos)\n",
            "[41, 77]\n",
            "Hilo 36: Subvector ordenado (Tiempo: 0.0007925033569335938 segundos)\n",
            "[12, 65]\n",
            "Hilo 37: Subvector ordenado (Tiempo: 0.0008146762847900391 segundos)\n",
            "[42, 69][31, 43]\n",
            "Hilo 39: Subvector ordenado (Tiempo: 0.00013327598571777344 segundos)\n",
            "Hilo 38: Subvector ordenado (Tiempo: 0.0005114078521728516 segundos)\n",
            "\n",
            "[46, 52]\n",
            "Hilo 40: Subvector ordenado (Tiempo: 0.0025784969329833984 segundos)\n",
            "[14, 40]\n",
            "Hilo 41: Subvector ordenado (Tiempo: 0.0008382797241210938 segundos)\n",
            "[26, 96]\n",
            "Hilo 42: Subvector ordenado (Tiempo: 0.0008199214935302734 segundos)\n",
            "[7, 62]\n",
            "Hilo 43: Subvector ordenado (Tiempo: 0.0008032321929931641 segundos)\n",
            "[18, 21]\n",
            "Hilo 44: Subvector ordenado (Tiempo: 0.000762939453125 segundos)\n",
            "[18, 70][15, 61]\n",
            "Hilo 46: Subvector ordenado (Tiempo: 0.00015091896057128906 segundos)\n",
            "Hilo 45: Subvector ordenado (Tiempo: 0.0005221366882324219 segundos)\n",
            "\n",
            "[38, 63]\n",
            "Hilo 47: Subvector ordenado (Tiempo: 0.002064228057861328 segundos)\n",
            "[58, 78]\n",
            "Hilo 48: Subvector ordenado (Tiempo: 0.0007829666137695312 segundos)\n",
            "[9, 75]\n",
            "Hilo 49: Subvector ordenado (Tiempo: 0.0010020732879638672 segundos)\n",
            "Vector ordenado final: [2, 3, 4, 5, 7, 8, 9, 10, 12, 13, 13, 14, 15, 17, 17, 18, 18, 19, 21, 21, 22, 22, 22, 25, 26, 26, 27, 28, 29, 30, 31, 31, 31, 34, 36, 36, 38, 38, 38, 40, 41, 42, 43, 45, 46, 47, 48, 49, 49, 49, 51, 52, 52, 52, 56, 56, 58, 60, 61, 61, 61, 62, 62, 63, 63, 64, 64, 65, 65, 65, 66, 68, 68, 69, 70, 70, 73, 73, 73, 75, 77, 77, 78, 78, 80, 82, 82, 82, 84, 84, 86, 86, 89, 90, 96, 97, 98, 99, 99, 100]\n",
            "Tiempo total de ejecución: 0.0795893669128418 segundos\n"
          ]
        }
      ]
    }
  ]
}